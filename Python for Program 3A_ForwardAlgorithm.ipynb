{
 "cells": [
  {
   "cell_type": "markdown",
   "metadata": {},
   "source": [
    "# A Python Framework for Programming 1A through 3A"
   ]
  },
  {
   "cell_type": "code",
   "execution_count": 1,
   "metadata": {},
   "outputs": [],
   "source": [
    "# Paraemter values for the 1D keyboad are stored in global variables; you can change them\n",
    "pr_hit = 0.6\n",
    "pr_miss = 0.4\n",
    "deg_kb = 2\n",
    "\n",
    "pr_repeat = 0.2\n",
    "pr_moveOn = 0.8\n",
    "deg_sp = 2"
   ]
  },
  {
   "cell_type": "markdown",
   "metadata": {},
   "source": [
    "# 1. Key functions implemented so far"
   ]
  },
  {
   "cell_type": "markdown",
   "metadata": {},
   "source": [
    "## getPrTableForPossibleInitialStates(lengthOfWord)"
   ]
  },
  {
   "cell_type": "code",
   "execution_count": 2,
   "metadata": {},
   "outputs": [
    {
     "data": {
      "text/plain": [
       "[0.5714285714285714, 0.2857142857142857, 0.14285714285714285]"
      ]
     },
     "execution_count": 2,
     "metadata": {},
     "output_type": "execute_result"
    }
   ],
   "source": [
    "# C++:  getPrTableForPossibleInitialStates(prTable, lengthOfWord):\n",
    "# ==> \n",
    "# Python:void getPrTableForPossibleInitialStates(lengthOfWord):\n",
    "#           return the information in the prTable directly\n",
    "def getPrTableForPossibleInitialStates(lengthOfWord):\n",
    "    missDistance = range( 1, lengthOfWord+1 )\n",
    "    exponentialDegrade = [ (1/deg_sp)**i    for i in missDistance]\n",
    "    scalingConstant = 1 / sum(exponentialDegrade)\n",
    "    return [scalingConstant*degrade for degrade in exponentialDegrade]\n",
    "    \n",
    "\n",
    "# Test the function to get the probabilities of the possible first states\n",
    "#      for a word of 3 characters (such as \"his\" in our handout)\n",
    "pr_repeat = 0.2\n",
    "pr_moveOn = 0.8\n",
    "deg_sp = 2\n",
    "getPrTableForPossibleInitialStates(3)\n"
   ]
  },
  {
   "cell_type": "markdown",
   "metadata": {},
   "source": [
    "## getPrTableForPossibleInitialStatesGivenTheWord(Word)"
   ]
  },
  {
   "cell_type": "code",
   "execution_count": 3,
   "metadata": {},
   "outputs": [
    {
     "data": {
      "text/plain": [
       "[0.5714285714285714, 0.2857142857142857, 0.14285714285714285]"
      ]
     },
     "execution_count": 3,
     "metadata": {},
     "output_type": "execute_result"
    }
   ],
   "source": [
    "# A variant that accomplishes the same thing given a word (as a string)\n",
    "def getPrTableForPossibleInitialStatesGivenTheWord(Word):\n",
    "    missDistance = range( 1, len(Word)+1 )\n",
    "    exponentialDegrade = [ (1/deg_sp)**i    for i in missDistance]\n",
    "    scalingConstant = 1 / sum(exponentialDegrade)\n",
    "    return [scalingConstant*degrade for degrade in exponentialDegrade]\n",
    "    \n",
    "    \n",
    "# Test the function to get the probabilities of the possible first states\n",
    "#      for the word \"his\" \n",
    "pr_repeat = 0.2\n",
    "pr_moveOn = 0.8\n",
    "deg_sp = 2\n",
    "getPrTableForPossibleInitialStatesGivenTheWord(\"his\")"
   ]
  },
  {
   "cell_type": "markdown",
   "metadata": {},
   "source": [
    "## getPrTableForPossibleNextStates(lengthOfWord_Plus1, currentState)"
   ]
  },
  {
   "cell_type": "code",
   "execution_count": 4,
   "metadata": {},
   "outputs": [
    {
     "data": {
      "text/plain": [
       "[0.2, 0.4571428571428572, 0.2285714285714286, 0.1142857142857143]"
      ]
     },
     "execution_count": 4,
     "metadata": {},
     "output_type": "execute_result"
    }
   ],
   "source": [
    "# C++ \n",
    "# void getPrTableForPossibleNextStates(double transitionPrTable[], \n",
    "#                                      int sizeOfTable, int currentState)\n",
    "# ==>\n",
    "# Python \n",
    "# getPrTableForPossibleNextStates(lengthOfWord_Plus1, currentState)\n",
    "# return the transitionPrTable\n",
    "\n",
    "def getPrTableForPossibleNextStates(lengthOfWord_Plus1, currentState):\n",
    "    statesAsIndices = range( lengthOfWord_Plus1 )\n",
    "    distances = [state - currentState for state in statesAsIndices ]\n",
    "    exponentialDegrade = [ (1/deg_sp)**i if i>0 else 0 for i in distances]\n",
    "    scalingConstant = pr_moveOn/sum(exponentialDegrade)\n",
    "    probabilitiesOfPossibleFirstStates = (\n",
    "        [ scalingConstant*degrade for degrade in exponentialDegrade] )\n",
    "    probabilitiesOfPossibleFirstStates[currentState] = pr_repeat\n",
    "    return probabilitiesOfPossibleFirstStates\n",
    "\n",
    "\n",
    "#Test the implementation\n",
    "getPrTableForPossibleNextStates(len(\"his\")+1, 0) \n"
   ]
  },
  {
   "cell_type": "markdown",
   "metadata": {},
   "source": [
    "## getPrTableForPossibleNextStatesGivenWord(word, currentState)"
   ]
  },
  {
   "cell_type": "code",
   "execution_count": 5,
   "metadata": {},
   "outputs": [
    {
     "data": {
      "text/plain": [
       "[0.2, 0.4571428571428572, 0.2285714285714286, 0.1142857142857143]"
      ]
     },
     "execution_count": 5,
     "metadata": {},
     "output_type": "execute_result"
    }
   ],
   "source": [
    "# A convenient variant\n",
    "# Python \n",
    "# getPrTableForPossibleNextStates(word, int currentState)\n",
    "# return the transitionPrTable\n",
    "\n",
    "def getPrTableForPossibleNextStatesGivenWord(word, currentState):\n",
    "    lengthOfWord_Plus1 =  len(word) +1\n",
    "    statesAsIndices = range( lengthOfWord_Plus1 )\n",
    "    distances = [state - currentState for state in statesAsIndices ]\n",
    "    exponentialDegrade = [ (1/deg_sp)**i if i>0 else 0 for i in distances]\n",
    "    scalingConstant = pr_moveOn/sum(exponentialDegrade)\n",
    "    probabilitiesOfPossibleFirstStates = (\n",
    "        [ scalingConstant*degrade for degrade in exponentialDegrade] )\n",
    "    probabilitiesOfPossibleFirstStates[currentState] = pr_repeat\n",
    "    return probabilitiesOfPossibleFirstStates\n",
    "\n",
    "#Test the implementation\n",
    "currentState = 0\n",
    "getPrTableForPossibleNextStatesGivenWord(\"his\", currentState)"
   ]
  },
  {
   "cell_type": "markdown",
   "metadata": {},
   "source": [
    "## prCharGiveCharState(x, y)"
   ]
  },
  {
   "cell_type": "code",
   "execution_count": 6,
   "metadata": {},
   "outputs": [],
   "source": [
    "#Probability of touching x when trying to type y\n",
    "def prCharGiveCharState(x, y):\n",
    "    if x==y:\n",
    "        return pr_hit\n",
    "    \n",
    "    diffASCII = range(1,26)\n",
    "    missdist = [min(n, 26-n) for n in diffASCII ]\n",
    "    exponentialDegrade = [(1/deg_kb)**i for i in missdist]\n",
    "    constant_x= pr_miss/sum(exponentialDegrade)\n",
    "    \n",
    "    distASCII_x_y = abs( ord(x) - ord(y) ) \n",
    "    distKB_x_y = min(distASCII_x_y, 26-distASCII_x_y )\n",
    "    return constant_x* (1/deg_kb)** distKB_x_y "
   ]
  },
  {
   "cell_type": "code",
   "execution_count": 7,
   "metadata": {},
   "outputs": [
    {
     "data": {
      "text/plain": [
       "0.6"
      ]
     },
     "execution_count": 7,
     "metadata": {},
     "output_type": "execute_result"
    }
   ],
   "source": [
    "pr_hit"
   ]
  },
  {
   "cell_type": "code",
   "execution_count": 8,
   "metadata": {},
   "outputs": [
    {
     "data": {
      "text/plain": [
       "2"
      ]
     },
     "execution_count": 8,
     "metadata": {},
     "output_type": "execute_result"
    }
   ],
   "source": [
    "deg_kb\n"
   ]
  },
  {
   "cell_type": "code",
   "execution_count": 9,
   "metadata": {},
   "outputs": [
    {
     "data": {
      "text/plain": [
       "0.1000183139002503"
      ]
     },
     "execution_count": 9,
     "metadata": {},
     "output_type": "execute_result"
    }
   ],
   "source": [
    "prCharGiveCharState('b', 'a')"
   ]
  },
  {
   "cell_type": "code",
   "execution_count": 10,
   "metadata": {},
   "outputs": [
    {
     "data": {
      "text/plain": [
       "0.05000915695012515"
      ]
     },
     "execution_count": 10,
     "metadata": {},
     "output_type": "execute_result"
    }
   ],
   "source": [
    "prCharGiveCharState('c', 'a')"
   ]
  },
  {
   "cell_type": "markdown",
   "metadata": {},
   "source": [
    "## take1SampleFrom1PrSpace"
   ]
  },
  {
   "cell_type": "code",
   "execution_count": 11,
   "metadata": {},
   "outputs": [
    {
     "data": {
      "text/plain": [
       "[1, 0, 1, 1, 0, 0, 1, 1, 0, 1, 0, 1, 2, 1, 1, 0, 1, 0, 1, 1]"
      ]
     },
     "execution_count": 11,
     "metadata": {},
     "output_type": "execute_result"
    }
   ],
   "source": [
    "# C++: int take1SampleFrom1PrSpace(double prTable[], int sizeOfTable)\n",
    "# ==>\n",
    "# Python: take1SampleFrom1PrSpace(prTable)\n",
    "#  the size of the table can be implicitly determined \n",
    "def take1SampleFrom1PrSpace(prTable):\n",
    "    probabilityThresholds = np.add.accumulate(prTable)\n",
    "    sample = np.random.random()\n",
    "    choice = (sample > probabilityThresholds).sum()\n",
    "    # print(\"Sample=\", sample, \",\\t choice=\", choice)\n",
    "    return choice\n",
    "\n",
    "\n",
    "import numpy as np\n",
    "prTable = np.array([0.25, 0.5, 0.25])\n",
    "[take1SampleFrom1PrSpace(prTable) for i in range(20)]"
   ]
  },
  {
   "cell_type": "code",
   "execution_count": 12,
   "metadata": {},
   "outputs": [
    {
     "data": {
      "text/plain": [
       "array([0.249588, 0.500288, 0.250124])"
      ]
     },
     "execution_count": 12,
     "metadata": {},
     "output_type": "execute_result"
    }
   ],
   "source": [
    "#Use bin count to check empirical frequencies observed\n",
    "np.bincount( [take1SampleFrom1PrSpace(prTable) for i in range(1000000)] )/1000000\n"
   ]
  },
  {
   "cell_type": "markdown",
   "metadata": {},
   "source": [
    "## getKeyboardProbabilityTable\n",
    "### note: this is a simple variant of prCharGiveCharState(x, y)"
   ]
  },
  {
   "cell_type": "code",
   "execution_count": 13,
   "metadata": {},
   "outputs": [
    {
     "data": {
      "text/plain": [
       "array([6.00000000e-01, 1.33333501e-01, 4.44445002e-02, 1.48148334e-02,\n",
       "       4.93827780e-03, 1.64609260e-03, 5.48697533e-04, 1.82899178e-04,\n",
       "       6.09663926e-05, 2.03221309e-05, 6.77404362e-06, 2.25801454e-06,\n",
       "       7.52671513e-07, 2.50890504e-07, 7.52671513e-07, 2.25801454e-06,\n",
       "       6.77404362e-06, 2.03221309e-05, 6.09663926e-05, 1.82899178e-04,\n",
       "       5.48697533e-04, 1.64609260e-03, 4.93827780e-03, 1.48148334e-02,\n",
       "       4.44445002e-02, 1.33333501e-01])"
      ]
     },
     "execution_count": 13,
     "metadata": {},
     "output_type": "execute_result"
    }
   ],
   "source": [
    "#C++: void getKeyboardProbabilityTable(char charToType, double prTable[])\n",
    "#==>\n",
    "#Python: getKeyboardProbabilityTable(charToType) \n",
    "#        to return the probabilities of getting a, b, ..., y, z\n",
    "#        as a numpy array\n",
    "#Note: This is simply a simple variant of prCharGiveCharState(x, y):\n",
    "\n",
    "def getKeyboardProbabilityTable(charToType):\n",
    "    #First determine the scaling constant for the exponential degrading\n",
    "    diffASCII = range(1,26)\n",
    "    missdist = [min(n, 26-n) for n in diffASCII ]\n",
    "    exponentialDegrade = [(1/deg_kb)**i for i in missdist]\n",
    "    scalingConstant = pr_miss/sum(exponentialDegrade)    \n",
    "    \n",
    "    #Set up an empty probability table \n",
    "    prTable = np.empty(26)\n",
    "    y = charToType\n",
    "    \n",
    "    # for each x in a to z,\n",
    "    # set up a loop to determine the probability of touching x \n",
    "    #     when trying to type y (i.e.charToType)\n",
    "    # store the results in the probability table accordingly\n",
    "    for i, x in enumerate(\"abcdefghijklmnopqrstuvwxyz\"):\n",
    "        if x==y:\n",
    "            prTable[i] = pr_hit\n",
    "        else:\n",
    "            distASCII_x_y = abs( ord(x) - ord(y) ) \n",
    "            distKB_x_y = min(distASCII_x_y, 26-distASCII_x_y )\n",
    "            prTable[i] = scalingConstant * (1/deg_kb)** distKB_x_y \n",
    "    \n",
    "    return prTable\n",
    "\n",
    "\n",
    "#Test the implementation\n",
    "pr_hit = 0.6\n",
    "pr_miss = 0.4\n",
    "deg_kb = 3\n",
    "\n",
    "getKeyboardProbabilityTable('a')"
   ]
  },
  {
   "cell_type": "code",
   "execution_count": 14,
   "metadata": {},
   "outputs": [
    {
     "data": {
      "text/plain": [
       "0.6"
      ]
     },
     "execution_count": 14,
     "metadata": {},
     "output_type": "execute_result"
    }
   ],
   "source": [
    "pr_hit"
   ]
  },
  {
   "cell_type": "code",
   "execution_count": 15,
   "metadata": {},
   "outputs": [
    {
     "data": {
      "text/plain": [
       "array([1.33333501e-01, 6.00000000e-01, 1.33333501e-01, 4.44445002e-02,\n",
       "       1.48148334e-02, 4.93827780e-03, 1.64609260e-03, 5.48697533e-04,\n",
       "       1.82899178e-04, 6.09663926e-05, 2.03221309e-05, 6.77404362e-06,\n",
       "       2.25801454e-06, 7.52671513e-07, 2.50890504e-07, 7.52671513e-07,\n",
       "       2.25801454e-06, 6.77404362e-06, 2.03221309e-05, 6.09663926e-05,\n",
       "       1.82899178e-04, 5.48697533e-04, 1.64609260e-03, 4.93827780e-03,\n",
       "       1.48148334e-02, 4.44445002e-02])"
      ]
     },
     "execution_count": 15,
     "metadata": {},
     "output_type": "execute_result"
    }
   ],
   "source": [
    "#More test on the implementation\n",
    "getKeyboardProbabilityTable('b')"
   ]
  },
  {
   "cell_type": "code",
   "execution_count": 16,
   "metadata": {},
   "outputs": [
    {
     "data": {
      "text/plain": [
       "1.0"
      ]
     },
     "execution_count": 16,
     "metadata": {},
     "output_type": "execute_result"
    }
   ],
   "source": [
    "#More test on the implementation\n",
    "getKeyboardProbabilityTable('b').sum()"
   ]
  },
  {
   "cell_type": "markdown",
   "metadata": {},
   "source": [
    "## typeOneChar"
   ]
  },
  {
   "cell_type": "code",
   "execution_count": 17,
   "metadata": {},
   "outputs": [
    {
     "data": {
      "text/plain": [
       "['a', 't', 'b', 't', 'n', 'l', 'a', 'a', 'b', 'y']"
      ]
     },
     "execution_count": 17,
     "metadata": {},
     "output_type": "execute_result"
    }
   ],
   "source": [
    "# C++: char typeOneChar(char charToType)\n",
    "# Python: typeOneChar(charToType) \n",
    "#   use  take1SampleFrom1PrSpace and\n",
    "#        getKeyboardProbabilityTable to\n",
    "#   simulate typing charToType and return the resulting character pressed \n",
    "\n",
    "def typeOneChar(charToType):\n",
    "    keys = \"abcdefghijklmnopqrstuvwxyz\" \n",
    "    prTable = getKeyboardProbabilityTable(charToType)\n",
    "    indexOfKeyPressed = take1SampleFrom1PrSpace( prTable )\n",
    "    return keys[ indexOfKeyPressed ]\n",
    "\n",
    "#Test the implementatiton\n",
    "pr_hit = 0.2\n",
    "pr_miss = 0.8\n",
    "deg_kb = 1.2\n",
    "\n",
    "#Type 'a' for 10 times and see the results\n",
    "[typeOneChar('a') for i in range(10) ]"
   ]
  },
  {
   "cell_type": "code",
   "execution_count": 18,
   "metadata": {},
   "outputs": [
    {
     "data": {
      "text/plain": [
       "['b', 'a', 'g', 'y', 'e', 'b', 'f', 'y', 'k', 'z']"
      ]
     },
     "execution_count": 18,
     "metadata": {},
     "output_type": "execute_result"
    }
   ],
   "source": [
    "#More test the implementatiton\n",
    "pr_hit = 0.2\n",
    "pr_miss = 0.8\n",
    "deg_kb = 2\n",
    "\n",
    "#Type 'a' for 10 times under a different setting and see the results\n",
    "[typeOneChar('a') for i in range(10) ]"
   ]
  },
  {
   "cell_type": "markdown",
   "metadata": {},
   "source": [
    "##  typeOneWord"
   ]
  },
  {
   "cell_type": "code",
   "execution_count": 19,
   "metadata": {},
   "outputs": [],
   "source": [
    "# C++: void typeOneWord( char word[], char output[], \n",
    "#                        bool traceON = false, int maxOutput=100)\n",
    "# Python: typeOneWord( word, trace=False )\n",
    "#      simulate the typing of the given word (a string) and\n",
    "#      return the resulted string\n",
    "\n",
    "def typeOneWord(word, trace=False):\n",
    "    #Special States\n",
    "    I_stateIndex = -1 \n",
    "    F_stateIndex = len(word)\n",
    "    \n",
    "    # Step 0: Simulation of leaving the starting state I to enter some (first) state \n",
    "    #        to enter a regular state as the current state: throw a dice\n",
    "    charOutputsObservedSofar = \"_\"\n",
    "    stateTrajectorySofar = \"I\"\n",
    "    prTable = getPrTableForPossibleInitialStatesGivenTheWord(word)\n",
    "\n",
    "    currentState_index = take1SampleFrom1PrSpace(prTable)\n",
    "    currentState_char = word[ currentState_index  ]\n",
    "\n",
    "    if trace:\n",
    "        print( \"First state reached after leaving I: (index, char)=\", \n",
    "               (currentState_index, currentState_char) \n",
    "             )\n",
    "    \n",
    "    while( currentState_index != F_stateIndex): # not the Final state F yet.\n",
    "        # Step 1: Simulation of typing a character given the current state: throw a dice\n",
    "        charTyped = typeOneChar(currentState_char)\n",
    "        charOutputsObservedSofar += charTyped\n",
    "        stateTrajectorySofar += currentState_char\n",
    "\n",
    "        if trace:\n",
    "            print( \"Current state: (index, char)=\", (currentState_index, currentState_char) )\n",
    "            print( charTyped, \" is pressed when trying to type \", currentState_char)\n",
    "            print( \"char outputs so far:\\t\", charOutputsObservedSofar )\n",
    "            print( \"state trajectory so far:\", stateTrajectorySofar )\n",
    "            print()\n",
    "\n",
    "        # Step 2: Simulation of leaving the current state to enter one of the possble next states\n",
    "        #       : throw a dice\n",
    "        prTable = getPrTableForPossibleNextStatesGivenWord(word, currentState_index)\n",
    "        nextState_index = take1SampleFrom1PrSpace(prTable)\n",
    "        nextState_char = word[ nextState_index  ] if (nextState_index<F_stateIndex) else \"F\"\n",
    "        if trace:\n",
    "            print( \"next state to enter: \", (nextState_index, \n",
    "                                             nextState_char) )\n",
    "\n",
    "        currentState_index = nextState_index\n",
    "        currentState_char = nextState_char \n",
    "\n",
    "    if trace:\n",
    "        print(\"Finish typing the word \", word)\n",
    "        print( \"char outputs:\\t\\t\", charOutputsObservedSofar+\"_\" )\n",
    "        print( \"state trajectory:\\t\", stateTrajectorySofar+\"F\" )\n",
    "        \n",
    "    return charOutputsObservedSofar[1:]\n",
    "\n",
    "      "
   ]
  },
  {
   "cell_type": "code",
   "execution_count": 20,
   "metadata": {},
   "outputs": [
    {
     "name": "stdout",
     "output_type": "stream",
     "text": [
      "First state reached after leaving I: (index, char)= (0, 'h')\n",
      "Current state: (index, char)= (0, 'h')\n",
      "i  is pressed when trying to type  h\n",
      "char outputs so far:\t _i\n",
      "state trajectory so far: Ih\n",
      "\n",
      "next state to enter:  (1, 'i')\n",
      "Current state: (index, char)= (1, 'i')\n",
      "i  is pressed when trying to type  i\n",
      "char outputs so far:\t _ii\n",
      "state trajectory so far: Ihi\n",
      "\n",
      "next state to enter:  (2, 's')\n",
      "Current state: (index, char)= (2, 's')\n",
      "s  is pressed when trying to type  s\n",
      "char outputs so far:\t _iis\n",
      "state trajectory so far: Ihis\n",
      "\n",
      "next state to enter:  (3, 'F')\n",
      "Finish typing the word  his\n",
      "char outputs:\t\t _iis_\n",
      "state trajectory:\t IhisF\n"
     ]
    },
    {
     "data": {
      "text/plain": [
       "'iis'"
      ]
     },
     "execution_count": 20,
     "metadata": {},
     "output_type": "execute_result"
    }
   ],
   "source": [
    "pr_hit = 0.9\n",
    "pr_miss = 0.1\n",
    "deg_kb = 4\n",
    "\n",
    "pr_repeat = 0.1\n",
    "pr_moveOn = 0.9\n",
    "deg_sp = 4\n",
    "\n",
    "word = \"his\"\n",
    "\n",
    "#See the trace of the simulation of typing one word\n",
    "typeOneWord( word, True)\n"
   ]
  },
  {
   "cell_type": "code",
   "execution_count": 21,
   "metadata": {},
   "outputs": [
    {
     "data": {
      "text/plain": [
       "['fs',\n",
       " 'his',\n",
       " 'is',\n",
       " 'hiis',\n",
       " 'hiit',\n",
       " 'hi',\n",
       " 'his',\n",
       " 'is',\n",
       " 'is',\n",
       " 'iis',\n",
       " 'h',\n",
       " 'h',\n",
       " 'ktss',\n",
       " 'iss',\n",
       " 'hs',\n",
       " 'hi',\n",
       " 'hir',\n",
       " 'gis',\n",
       " 'iis',\n",
       " 'hs',\n",
       " 'ifs',\n",
       " 'his',\n",
       " 's',\n",
       " 'is',\n",
       " 'hi',\n",
       " 's',\n",
       " 'hi',\n",
       " 'hs',\n",
       " 'his',\n",
       " 'gis',\n",
       " 'his',\n",
       " 's',\n",
       " 'hiis',\n",
       " 'h',\n",
       " 'hhi',\n",
       " 'hs',\n",
       " 'his',\n",
       " 'hs',\n",
       " 'is',\n",
       " 's',\n",
       " 's',\n",
       " 'hiis',\n",
       " 'his',\n",
       " 'hi',\n",
       " 'hjs',\n",
       " 'his',\n",
       " 'i',\n",
       " 'hiis',\n",
       " 'iis',\n",
       " 'ghs',\n",
       " 'h',\n",
       " 'his',\n",
       " 'gis',\n",
       " 'iis',\n",
       " 'hgi',\n",
       " 'hhs',\n",
       " 'is',\n",
       " 'ht',\n",
       " 'hi',\n",
       " 'hjs',\n",
       " 'r',\n",
       " 'his',\n",
       " 'his',\n",
       " 'hhs',\n",
       " 'hiss',\n",
       " 'hiss',\n",
       " 'hi',\n",
       " 'h',\n",
       " 'his',\n",
       " 'iiis',\n",
       " 'his',\n",
       " 'jr',\n",
       " 'his',\n",
       " 'his',\n",
       " 'iss',\n",
       " 'hi',\n",
       " 'his',\n",
       " 'hhhis',\n",
       " 'his',\n",
       " 'hhis',\n",
       " 'hir',\n",
       " 'h',\n",
       " 'his',\n",
       " 'hi',\n",
       " 'gjs',\n",
       " 'hhis',\n",
       " 'hits',\n",
       " 'ghi',\n",
       " 'hs',\n",
       " 'iis',\n",
       " 'i',\n",
       " 'is',\n",
       " 'i',\n",
       " 'hi',\n",
       " 'hi',\n",
       " 'his',\n",
       " 'hhs',\n",
       " 'his',\n",
       " 'hhis',\n",
       " 'hi',\n",
       " 's',\n",
       " 'hs',\n",
       " 'his',\n",
       " 'is',\n",
       " 'hr',\n",
       " 'hs',\n",
       " 'his',\n",
       " 'hi',\n",
       " 'hs',\n",
       " 'fks',\n",
       " 'is',\n",
       " 'hhis',\n",
       " 'his',\n",
       " 'hiit',\n",
       " 'jr',\n",
       " 'h',\n",
       " 'hiit',\n",
       " 'hs',\n",
       " 'hiiis',\n",
       " 's',\n",
       " 'fhis',\n",
       " 's',\n",
       " 'hhi',\n",
       " 'hi',\n",
       " 'hs',\n",
       " 'his',\n",
       " 's',\n",
       " 'is',\n",
       " 'his',\n",
       " 'his',\n",
       " 'hi',\n",
       " 'his',\n",
       " 'his',\n",
       " 'hhs',\n",
       " 'hks',\n",
       " 's',\n",
       " 'hs',\n",
       " 'his',\n",
       " 'is',\n",
       " 'his',\n",
       " 'is',\n",
       " 'his',\n",
       " 'hiis',\n",
       " 's',\n",
       " 'hhs',\n",
       " 'hs',\n",
       " 'hfiis',\n",
       " 'hjss',\n",
       " 'i',\n",
       " 'i',\n",
       " 'hs',\n",
       " 'his',\n",
       " 'hs',\n",
       " 'his',\n",
       " 'ht',\n",
       " 'hir',\n",
       " 'hr',\n",
       " 'hs',\n",
       " 'hhjs',\n",
       " 'his',\n",
       " 'hhs',\n",
       " 'hhs',\n",
       " 'iis',\n",
       " 'hiss',\n",
       " 'hs',\n",
       " 'his',\n",
       " 'hgs',\n",
       " 's',\n",
       " 'his',\n",
       " 'hs',\n",
       " 'his',\n",
       " 'hh',\n",
       " 'is',\n",
       " 'his',\n",
       " 'hi',\n",
       " 'hs',\n",
       " 'hi',\n",
       " 'his',\n",
       " 'hjs',\n",
       " 'his',\n",
       " 'his',\n",
       " 'hiiiis',\n",
       " 'is',\n",
       " 'hi',\n",
       " 'hjs',\n",
       " 'hi',\n",
       " 'is',\n",
       " 'hiss',\n",
       " 'hi',\n",
       " 'iis',\n",
       " 'iis',\n",
       " 'hjs',\n",
       " 'hiiiis',\n",
       " 'hks',\n",
       " 'his',\n",
       " 'gis',\n",
       " 'is',\n",
       " 'his',\n",
       " 'ir',\n",
       " 'hhis',\n",
       " 'is',\n",
       " 'i',\n",
       " 'his',\n",
       " 'is',\n",
       " 's',\n",
       " 'his',\n",
       " 'is',\n",
       " 'gi',\n",
       " 'his',\n",
       " 'hiis',\n",
       " 'is',\n",
       " 'it',\n",
       " 'his',\n",
       " 'his',\n",
       " 'h',\n",
       " 'jis',\n",
       " 'is',\n",
       " 'hs',\n",
       " 'is',\n",
       " 'hs',\n",
       " 'ht',\n",
       " 'hiis',\n",
       " 'his',\n",
       " 'his',\n",
       " 'hst',\n",
       " 'iis',\n",
       " 'iiis',\n",
       " 'his',\n",
       " 'hs',\n",
       " 'hhhis',\n",
       " 'his',\n",
       " 's',\n",
       " 'h',\n",
       " 'his',\n",
       " 'his',\n",
       " 'hs',\n",
       " 'hhis',\n",
       " 'hh',\n",
       " 'iis',\n",
       " 'his',\n",
       " 'hist',\n",
       " 's',\n",
       " 'hq',\n",
       " 'hhis',\n",
       " 'gis',\n",
       " 's',\n",
       " 'h',\n",
       " 'is',\n",
       " 'hi',\n",
       " 'hs',\n",
       " 'is',\n",
       " 'i',\n",
       " 'hhis',\n",
       " 'hi',\n",
       " 'hir',\n",
       " 'hhis',\n",
       " 'his',\n",
       " 'hi',\n",
       " 'hi',\n",
       " 'is',\n",
       " 's',\n",
       " 'hi',\n",
       " 's',\n",
       " 'is',\n",
       " 'hjs',\n",
       " 'is',\n",
       " 'hiss',\n",
       " 'hfs',\n",
       " 'is',\n",
       " 'his',\n",
       " 'hhis',\n",
       " 'hiss',\n",
       " 'is',\n",
       " 'is',\n",
       " 'is',\n",
       " 'hi',\n",
       " 'his',\n",
       " 'isq',\n",
       " 'hhi',\n",
       " 'iis',\n",
       " 'hi',\n",
       " 'i',\n",
       " 'hi',\n",
       " 'i',\n",
       " 's',\n",
       " 's',\n",
       " 'hj',\n",
       " 'hs',\n",
       " 'hs',\n",
       " 'hiis',\n",
       " 'is',\n",
       " 'cis',\n",
       " 'his',\n",
       " 'his',\n",
       " 's',\n",
       " 'hi',\n",
       " 'his',\n",
       " 'hs',\n",
       " 'hhis',\n",
       " 'his',\n",
       " 'li',\n",
       " 'hhs',\n",
       " 'hi',\n",
       " 'r',\n",
       " 'hi',\n",
       " 'hhis',\n",
       " 'i',\n",
       " 'hs',\n",
       " 'hi',\n",
       " 'hs',\n",
       " 'gs',\n",
       " 'his',\n",
       " 'hs',\n",
       " 'is',\n",
       " 'hjs',\n",
       " 'iis',\n",
       " 'h',\n",
       " 'giq',\n",
       " 'his',\n",
       " 'his',\n",
       " 's',\n",
       " 'hs',\n",
       " 'hi',\n",
       " 'ht',\n",
       " 'his',\n",
       " 'hhjs',\n",
       " 'hs',\n",
       " 'hhiis',\n",
       " 'hs',\n",
       " 'iss',\n",
       " 'hgs',\n",
       " 'is',\n",
       " 'hs',\n",
       " 'hiis',\n",
       " 'hss',\n",
       " 'his',\n",
       " 'hiis',\n",
       " 'hhs',\n",
       " 'hh',\n",
       " 'hhi',\n",
       " 'ss',\n",
       " 'iss',\n",
       " 'hi',\n",
       " 'his',\n",
       " 'it',\n",
       " 'is',\n",
       " 'h',\n",
       " 'hi',\n",
       " 'his',\n",
       " 's',\n",
       " 'hi',\n",
       " 'ks',\n",
       " 'hiis',\n",
       " 'hi',\n",
       " 'his',\n",
       " 'is',\n",
       " 'hi',\n",
       " 'hjss',\n",
       " 'his',\n",
       " 'ht',\n",
       " 'hi',\n",
       " 'hj',\n",
       " 'ii',\n",
       " 'hgsss',\n",
       " 'is',\n",
       " 'hhs',\n",
       " 'iq',\n",
       " 'hiiis',\n",
       " 'hiqs',\n",
       " 'hi',\n",
       " 'i',\n",
       " 'his',\n",
       " 'h',\n",
       " 'hs',\n",
       " 'gi',\n",
       " 'hn',\n",
       " 'it',\n",
       " 'hhis',\n",
       " 'hf',\n",
       " 'his',\n",
       " 'hhis',\n",
       " 'i',\n",
       " 'his',\n",
       " 'hhs',\n",
       " 'jhis',\n",
       " 'is',\n",
       " 'is',\n",
       " 'his',\n",
       " 'his',\n",
       " 'his',\n",
       " 'hi',\n",
       " 'his',\n",
       " 'is',\n",
       " 'his',\n",
       " 'hiss',\n",
       " 'his',\n",
       " 'hi',\n",
       " 'hi',\n",
       " 'h',\n",
       " 'is',\n",
       " 'is',\n",
       " 'hi',\n",
       " 'hi',\n",
       " 'ss',\n",
       " 'hjs',\n",
       " 'is',\n",
       " 'his',\n",
       " 'his',\n",
       " 'his',\n",
       " 'his',\n",
       " 'h',\n",
       " 'his',\n",
       " 'hiss',\n",
       " 'his',\n",
       " 'his',\n",
       " 'his',\n",
       " 'hjs',\n",
       " 'his',\n",
       " 'is',\n",
       " 'ir',\n",
       " 'hs',\n",
       " 'hit',\n",
       " 'is',\n",
       " 'his',\n",
       " 'his',\n",
       " 'iiiis',\n",
       " 'his',\n",
       " 'ii',\n",
       " 'hii',\n",
       " 'hit',\n",
       " 'hs',\n",
       " 'hi',\n",
       " 'i',\n",
       " 'hiss',\n",
       " 'his',\n",
       " 'ii',\n",
       " 's',\n",
       " 'hs',\n",
       " 'hs',\n",
       " 'hhis',\n",
       " 'h',\n",
       " 'fhis',\n",
       " 's',\n",
       " 'i',\n",
       " 'hi',\n",
       " 'hiis',\n",
       " 'hhis',\n",
       " 'is',\n",
       " 'hhi',\n",
       " 's',\n",
       " 'is',\n",
       " 'his',\n",
       " 'iq',\n",
       " 'hjss',\n",
       " 'his',\n",
       " 'iis',\n",
       " 'is',\n",
       " 'i',\n",
       " 'is',\n",
       " 'his',\n",
       " 'his',\n",
       " 'hu',\n",
       " 'his',\n",
       " 'his',\n",
       " 'is',\n",
       " 'hii',\n",
       " 'his',\n",
       " 'hs',\n",
       " 'hhjis',\n",
       " 'hj',\n",
       " 'hiss',\n",
       " 'h',\n",
       " 'is',\n",
       " 'hi',\n",
       " 'his',\n",
       " 'his',\n",
       " 'hhi',\n",
       " 'hir',\n",
       " 'his',\n",
       " 'hi',\n",
       " 'gis',\n",
       " 'hhis',\n",
       " 'hi',\n",
       " 'is',\n",
       " 'his',\n",
       " 'his',\n",
       " 'hg',\n",
       " 's',\n",
       " 's',\n",
       " 'his',\n",
       " 's',\n",
       " 'hs',\n",
       " 'gis',\n",
       " 'his',\n",
       " 'isss',\n",
       " 'his',\n",
       " 'hi',\n",
       " 'iis',\n",
       " 'hh',\n",
       " 'hs',\n",
       " 'is',\n",
       " 'hi',\n",
       " 'hiit',\n",
       " 'hiii',\n",
       " 'his',\n",
       " 'js',\n",
       " 'his',\n",
       " 'his',\n",
       " 'his',\n",
       " 'iiis',\n",
       " 's',\n",
       " 'gis',\n",
       " 'his',\n",
       " 'ghkis',\n",
       " 'hss',\n",
       " 'hi',\n",
       " 's',\n",
       " 'i',\n",
       " 'hu',\n",
       " 'his',\n",
       " 'hs',\n",
       " 'isq',\n",
       " 'is',\n",
       " 'his',\n",
       " 'his',\n",
       " 'his',\n",
       " 'his',\n",
       " 's',\n",
       " 'h',\n",
       " 'hhis',\n",
       " 'hir',\n",
       " 'his',\n",
       " 'hi',\n",
       " 'h',\n",
       " 'ji',\n",
       " 'is',\n",
       " 'i',\n",
       " 'hiss',\n",
       " 's',\n",
       " 'gs',\n",
       " 'h',\n",
       " 'hiss',\n",
       " 'hi',\n",
       " 'his',\n",
       " 'his',\n",
       " 'iis',\n",
       " 'hhss',\n",
       " 'hks',\n",
       " 'hi',\n",
       " 'is',\n",
       " 'hhis',\n",
       " 'his',\n",
       " 'hhhi',\n",
       " 'iis',\n",
       " 'it',\n",
       " 'gis',\n",
       " 'hiss',\n",
       " 'hs',\n",
       " 'is',\n",
       " 'ht',\n",
       " 'hir',\n",
       " 'hhis',\n",
       " 'h',\n",
       " 'hss',\n",
       " 'is',\n",
       " 'is',\n",
       " 'his',\n",
       " 'h',\n",
       " 'hiss',\n",
       " 'hhi',\n",
       " 'hiss',\n",
       " 'hs',\n",
       " 'his',\n",
       " 'hs',\n",
       " 'i',\n",
       " 'hhit',\n",
       " 'hjs',\n",
       " 'iit',\n",
       " 'hi',\n",
       " 'hiss',\n",
       " 'is',\n",
       " 'h',\n",
       " 'iks',\n",
       " 'is',\n",
       " 'hs',\n",
       " 'his',\n",
       " 'hhs',\n",
       " 'his',\n",
       " 'hi',\n",
       " 'hikis',\n",
       " 'his',\n",
       " 'his',\n",
       " 'hhss',\n",
       " 'ir',\n",
       " 'gis',\n",
       " 'hihss',\n",
       " 'h',\n",
       " 'jiis',\n",
       " 'hs',\n",
       " 'hj',\n",
       " 'is',\n",
       " 'is',\n",
       " 'hju',\n",
       " 'hi',\n",
       " 'his',\n",
       " 'is',\n",
       " 'hs',\n",
       " 'his',\n",
       " 'iis',\n",
       " 'hss',\n",
       " 'his',\n",
       " 'hiis',\n",
       " 'hiis',\n",
       " 'hiis',\n",
       " 'is',\n",
       " 'jr',\n",
       " 'hhhs',\n",
       " 'his',\n",
       " 'hi',\n",
       " 'hhir',\n",
       " 'hi',\n",
       " 'his',\n",
       " 'hist',\n",
       " 'his',\n",
       " 'hits',\n",
       " 'hi',\n",
       " 'iu',\n",
       " 'his',\n",
       " 'is',\n",
       " 'h',\n",
       " 'hs',\n",
       " 'h',\n",
       " 'hs',\n",
       " 's',\n",
       " 's',\n",
       " 'his',\n",
       " 'hir',\n",
       " 'is',\n",
       " 'is',\n",
       " 'hgis',\n",
       " 'hiis',\n",
       " 'hhhi',\n",
       " 'gis',\n",
       " 'is',\n",
       " 'ir',\n",
       " 'hs',\n",
       " 'hiss',\n",
       " 'hhiis',\n",
       " 'hi',\n",
       " 'his',\n",
       " 'his',\n",
       " 'iis',\n",
       " 'hhi',\n",
       " 'is',\n",
       " 'hhi',\n",
       " 'hghs',\n",
       " 'kis',\n",
       " 'i',\n",
       " 's',\n",
       " 'hs',\n",
       " 'his',\n",
       " 'i',\n",
       " 'hhis',\n",
       " 'hhi',\n",
       " 'his',\n",
       " 'hhhjs',\n",
       " 'hi',\n",
       " 'his',\n",
       " 'hiisss',\n",
       " 'isss',\n",
       " 'hjs',\n",
       " 'his',\n",
       " 's',\n",
       " 'hit',\n",
       " 'hs',\n",
       " 'ies',\n",
       " 'his',\n",
       " 'hh',\n",
       " 'js',\n",
       " 'his',\n",
       " 'his',\n",
       " 'iis',\n",
       " 'his',\n",
       " 'his',\n",
       " 'his',\n",
       " 'hs',\n",
       " 'his',\n",
       " 'is',\n",
       " 'ht',\n",
       " 'hi',\n",
       " 'it',\n",
       " 'hs',\n",
       " 'is',\n",
       " 'his',\n",
       " 'hit',\n",
       " 'hiss',\n",
       " 'kis',\n",
       " 'hs',\n",
       " 'is',\n",
       " 'is',\n",
       " 'hiis',\n",
       " 'his',\n",
       " 'kiisss',\n",
       " 'is',\n",
       " 's',\n",
       " 'hs',\n",
       " 'his',\n",
       " 'iii',\n",
       " 'hs',\n",
       " 'hi',\n",
       " 'his',\n",
       " 'his',\n",
       " 'his',\n",
       " 'his',\n",
       " 'hhjs',\n",
       " 'is',\n",
       " 'hht',\n",
       " 'gis',\n",
       " 'his',\n",
       " 'his',\n",
       " 'gis',\n",
       " 'hs',\n",
       " 'hi',\n",
       " 'js',\n",
       " 'hs',\n",
       " 'hfs',\n",
       " 'his',\n",
       " 'is',\n",
       " 'hi',\n",
       " 'is',\n",
       " 'hss',\n",
       " 'i',\n",
       " 'his',\n",
       " 'is',\n",
       " 'hhis',\n",
       " 'ihi',\n",
       " 'g',\n",
       " 'hii',\n",
       " 'hhs',\n",
       " 'his',\n",
       " 'hi',\n",
       " 'his',\n",
       " 'hiss',\n",
       " 'hst',\n",
       " 'hjs',\n",
       " 'iis',\n",
       " 'his',\n",
       " 'hs',\n",
       " 'hs',\n",
       " 'hi',\n",
       " 'is',\n",
       " 'his',\n",
       " 'hs',\n",
       " 'his',\n",
       " 'hss',\n",
       " 'h',\n",
       " 'is',\n",
       " 'iss',\n",
       " 'hi',\n",
       " 'hip',\n",
       " 'hit',\n",
       " 'his',\n",
       " 'hiu',\n",
       " 'ihs',\n",
       " 'd',\n",
       " 'ir',\n",
       " 'fis',\n",
       " 'hhis',\n",
       " 'is',\n",
       " 'his',\n",
       " 'hhis',\n",
       " 'hi',\n",
       " 'hs',\n",
       " 'hr',\n",
       " 'hs',\n",
       " 'his',\n",
       " 'his',\n",
       " 'his',\n",
       " 'hi',\n",
       " 'i',\n",
       " 'gis',\n",
       " 'is',\n",
       " 'hs',\n",
       " 'is',\n",
       " 'hit',\n",
       " 'hiis',\n",
       " 's',\n",
       " 'is',\n",
       " 's',\n",
       " 'his',\n",
       " 'his',\n",
       " 'iiis',\n",
       " 'hss',\n",
       " 'h',\n",
       " 'is',\n",
       " 'is',\n",
       " 'is',\n",
       " 'hit',\n",
       " 'his',\n",
       " 'his',\n",
       " 's',\n",
       " 'is',\n",
       " 'hj',\n",
       " 'is',\n",
       " 'hiss',\n",
       " 'hhis',\n",
       " 'his',\n",
       " 'i',\n",
       " 'is',\n",
       " 'is',\n",
       " 'his',\n",
       " 's',\n",
       " 'h',\n",
       " 'is',\n",
       " 's',\n",
       " 'his',\n",
       " 'his',\n",
       " 's',\n",
       " 'ih',\n",
       " 'is',\n",
       " 'his',\n",
       " 'his',\n",
       " 'is',\n",
       " 'his',\n",
       " 'ht',\n",
       " 'his',\n",
       " 'his',\n",
       " 's',\n",
       " 'hs',\n",
       " 'hi',\n",
       " 'is',\n",
       " 'iis',\n",
       " 'his',\n",
       " 'hs',\n",
       " 'his',\n",
       " 'hhs',\n",
       " 'his',\n",
       " 'ir',\n",
       " 'gis',\n",
       " 'hs',\n",
       " 'his',\n",
       " 'ht',\n",
       " 'hiit',\n",
       " 'is',\n",
       " 'gs',\n",
       " 'his',\n",
       " 'hiss',\n",
       " 's',\n",
       " 'hhis',\n",
       " 'is',\n",
       " 'hs',\n",
       " 's',\n",
       " 'hr',\n",
       " 'hi',\n",
       " 'i',\n",
       " 'his',\n",
       " 'his',\n",
       " 'his',\n",
       " 'hms',\n",
       " 'gi',\n",
       " 'hiq',\n",
       " 'hi',\n",
       " 'his',\n",
       " 'his',\n",
       " 'hs',\n",
       " 'hihs',\n",
       " 'hs',\n",
       " 'his',\n",
       " 'is',\n",
       " 'hs',\n",
       " 'hhss',\n",
       " 'his',\n",
       " 'is',\n",
       " 'his',\n",
       " 'his',\n",
       " 'ht',\n",
       " 'iis',\n",
       " 'hs',\n",
       " 'his',\n",
       " 'hks',\n",
       " 'hiis',\n",
       " 'hiss',\n",
       " 's',\n",
       " 'hi',\n",
       " 'his',\n",
       " 'hs',\n",
       " 'u',\n",
       " 'is',\n",
       " 'is',\n",
       " 'hiss',\n",
       " 'hisss',\n",
       " 'his',\n",
       " 'h',\n",
       " 'hi',\n",
       " 'is',\n",
       " 'hiiq',\n",
       " 'ss',\n",
       " 'hi',\n",
       " 'hi',\n",
       " 'fiis',\n",
       " 'is',\n",
       " 'i',\n",
       " 'khs',\n",
       " 'hs',\n",
       " 'ht',\n",
       " 'hi',\n",
       " 'hhis',\n",
       " 'his',\n",
       " 'gis',\n",
       " 'hi',\n",
       " 'his',\n",
       " 'hs',\n",
       " 'his',\n",
       " 'hss',\n",
       " 'is',\n",
       " 'his',\n",
       " 's',\n",
       " 'hiii',\n",
       " 'hi',\n",
       " 'is',\n",
       " 'hhss',\n",
       " 'hs',\n",
       " 'iss',\n",
       " 'iiiir',\n",
       " 'hs',\n",
       " 'iis',\n",
       " 'hi',\n",
       " 'his',\n",
       " 'his',\n",
       " 'ss',\n",
       " 'i',\n",
       " 'hi',\n",
       " 'dis',\n",
       " 'hhis',\n",
       " 'is',\n",
       " 'hs',\n",
       " 'hihs',\n",
       " 'hhis',\n",
       " 'hhs',\n",
       " 'is',\n",
       " 'hs',\n",
       " 'his',\n",
       " 'his',\n",
       " 'hii',\n",
       " 'hi',\n",
       " 'his',\n",
       " 'is',\n",
       " 'is',\n",
       " 'isq',\n",
       " 'hijs',\n",
       " 'hhis',\n",
       " 'hhs',\n",
       " 'gis',\n",
       " 'hiss',\n",
       " 'hiss',\n",
       " 'hhjs',\n",
       " 'hhs',\n",
       " 'hhs',\n",
       " 'his',\n",
       " 'hs',\n",
       " 'hs',\n",
       " 'hisq',\n",
       " 'his',\n",
       " 'his',\n",
       " 'hii',\n",
       " 'hhiis',\n",
       " 'his',\n",
       " 'hit',\n",
       " 'hi',\n",
       " 'gu',\n",
       " 'i',\n",
       " 'his',\n",
       " 'hi',\n",
       " 'is',\n",
       " 'hi',\n",
       " 'h',\n",
       " 'hs',\n",
       " 'hs',\n",
       " 's',\n",
       " 'hi',\n",
       " 'hgs',\n",
       " 'is',\n",
       " 'his',\n",
       " 'jr',\n",
       " 'his',\n",
       " 'hs',\n",
       " 'is',\n",
       " 'is',\n",
       " 'hss',\n",
       " 'his',\n",
       " 'hiss',\n",
       " 'hi',\n",
       " 'iis',\n",
       " 'hh',\n",
       " 'hss',\n",
       " 'is',\n",
       " 'i',\n",
       " 'his',\n",
       " 'hh',\n",
       " 'his',\n",
       " ...]"
      ]
     },
     "execution_count": 21,
     "metadata": {},
     "output_type": "execute_result"
    }
   ],
   "source": [
    "# See the result of typing the same word 10000 times\n",
    "[typeOneWord(word, False) for i in range(10000) ]"
   ]
  },
  {
   "cell_type": "markdown",
   "metadata": {},
   "source": [
    "# 2. Basics of file input/output in Python"
   ]
  },
  {
   "cell_type": "markdown",
   "metadata": {},
   "source": [
    "### 2.1 Basics of file output in Python"
   ]
  },
  {
   "cell_type": "code",
   "execution_count": 22,
   "metadata": {},
   "outputs": [],
   "source": [
    "# write data into a file. \n",
    "Lines = [\"Line 1: a;\",\"Line 2: b;\",\"Line 3: c;\"]\n",
    "\n",
    "file = open(\"outputFile1\",\"w\") \n",
    "for L in Lines:\n",
    "    file.write(L) \n",
    "file.close()"
   ]
  },
  {
   "cell_type": "code",
   "execution_count": 23,
   "metadata": {},
   "outputs": [],
   "source": [
    "# %load outputFile1"
   ]
  },
  {
   "cell_type": "code",
   "execution_count": null,
   "metadata": {},
   "outputs": [],
   "source": []
  },
  {
   "cell_type": "code",
   "execution_count": 24,
   "metadata": {},
   "outputs": [],
   "source": [
    "# write data into a file. \n",
    "Lines = [\"Line 1: a;\",\"Line 2: b;\",\"Line 3: c;\"]\n",
    "\n",
    "file = open(\"outputFile2\",\"w\") \n",
    "file.writelines(Lines) \n",
    "file.close()\n"
   ]
  },
  {
   "cell_type": "code",
   "execution_count": 25,
   "metadata": {},
   "outputs": [],
   "source": [
    "# %load outputFile2"
   ]
  },
  {
   "cell_type": "code",
   "execution_count": 26,
   "metadata": {},
   "outputs": [],
   "source": [
    "# write data into a file. \n",
    "Lines = [\"Line 1: a;\",\"Line 2: b;\",\"Line 3: c;\"]\n",
    "\n",
    "file = open(\"outputFile3\",\"w\") \n",
    "for line in Lines:\n",
    "    file.writelines(line +\"\\n\") \n",
    "file.close()\n"
   ]
  },
  {
   "cell_type": "code",
   "execution_count": 27,
   "metadata": {},
   "outputs": [],
   "source": [
    "# %load outputFile3\n",
    "\n"
   ]
  },
  {
   "cell_type": "markdown",
   "metadata": {},
   "source": [
    "### 2.2 Basics of file intput in Python"
   ]
  },
  {
   "cell_type": "code",
   "execution_count": 28,
   "metadata": {},
   "outputs": [
    {
     "name": "stdout",
     "output_type": "stream",
     "text": [
      "x is Line 1: a;\n",
      "Line 2: b;\n",
      "Line 3: c;\n",
      "\n"
     ]
    }
   ],
   "source": [
    "# read data from a file. \n",
    "file = open(\"outputFile3\",\"r\") \n",
    "x=file.read()\n",
    "print(\"x is\", x)\n",
    "file.close()\n"
   ]
  },
  {
   "cell_type": "code",
   "execution_count": 29,
   "metadata": {},
   "outputs": [
    {
     "data": {
      "text/plain": [
       "('Line 1: a;\\n', 'Line 2: b;\\n', 'Line 3: c;\\n')"
      ]
     },
     "execution_count": 29,
     "metadata": {},
     "output_type": "execute_result"
    }
   ],
   "source": [
    "file = open(\"outputFile3\",\"r\") \n",
    "x=file.readline()\n",
    "y=file.readline()\n",
    "z=file.readline()\n",
    "#show what we got in x, y, z\n",
    "x, y, z\n"
   ]
  },
  {
   "cell_type": "code",
   "execution_count": 30,
   "metadata": {},
   "outputs": [
    {
     "name": "stdout",
     "output_type": "stream",
     "text": [
      "lines is ['Line 1: a;\\n', 'Line 2: b;\\n', 'Line 3: c;\\n']\n"
     ]
    }
   ],
   "source": [
    "file = open(\"outputFile3\",\"r\") \n",
    "lines=file.readlines()\n",
    "print(\"lines is\", lines)\n"
   ]
  },
  {
   "cell_type": "code",
   "execution_count": 31,
   "metadata": {},
   "outputs": [
    {
     "data": {
      "text/plain": [
       "['Line 1: a;', 'Line 2: b;', 'Line 3: c;']"
      ]
     },
     "execution_count": 31,
     "metadata": {},
     "output_type": "execute_result"
    }
   ],
   "source": [
    "# Strip the white spaces(i.e. spaces, tabs, and specifically'\\n' in this case)\n",
    "strippedLines = [line.strip( ) for line in lines]\n",
    "strippedLines\n"
   ]
  },
  {
   "cell_type": "code",
   "execution_count": 32,
   "metadata": {},
   "outputs": [
    {
     "name": "stdout",
     "output_type": "stream",
     "text": [
      "72  words in biolaVision.txt:\n",
      "\n"
     ]
    },
    {
     "data": {
      "text/plain": [
       "['biola',\n",
       " 'university',\n",
       " 'vision',\n",
       " 'is',\n",
       " 'to',\n",
       " 'be',\n",
       " 'an',\n",
       " 'exemplary',\n",
       " 'christian',\n",
       " 'university',\n",
       " 'characterized',\n",
       " 'as',\n",
       " 'a',\n",
       " 'community',\n",
       " 'of',\n",
       " 'grace',\n",
       " 'that',\n",
       " 'promotes',\n",
       " 'and',\n",
       " 'inspires',\n",
       " 'personal',\n",
       " 'life',\n",
       " 'transformation',\n",
       " 'in',\n",
       " 'christ',\n",
       " 'which',\n",
       " 'illuminates',\n",
       " 'the',\n",
       " 'world',\n",
       " 'with',\n",
       " 'his',\n",
       " 'light',\n",
       " 'and',\n",
       " 'truth',\n",
       " 'further',\n",
       " 'as',\n",
       " 'a',\n",
       " 'global',\n",
       " 'center',\n",
       " 'for',\n",
       " 'christian',\n",
       " 'thought',\n",
       " 'and',\n",
       " 'an',\n",
       " 'influential',\n",
       " 'evangelical',\n",
       " 'voice',\n",
       " 'that',\n",
       " 'addresses',\n",
       " 'crucial',\n",
       " 'cultural',\n",
       " 'issues',\n",
       " 'biola',\n",
       " 'university',\n",
       " 'aspires',\n",
       " 'to',\n",
       " 'lead',\n",
       " 'with',\n",
       " 'confidence',\n",
       " 'and',\n",
       " 'compassion',\n",
       " 'an',\n",
       " 'intellectual',\n",
       " 'and',\n",
       " 'spiritual',\n",
       " 'renewal',\n",
       " 'that',\n",
       " 'advances',\n",
       " 'the',\n",
       " 'purpose',\n",
       " 'of',\n",
       " 'christ']"
      ]
     },
     "execution_count": 32,
     "metadata": {},
     "output_type": "execute_result"
    }
   ],
   "source": [
    "# Read words from biolaVision.txt\n",
    "file = open(\"biolaVision.txt\",\"r\") \n",
    "lines = file.readlines()\n",
    "file.close()\n",
    "\n",
    "words = [line.strip( ) for line in lines]\n",
    "\n",
    "print(len(words), \" words in biolaVision.txt:\\n\")\n",
    "words"
   ]
  },
  {
   "cell_type": "markdown",
   "metadata": {},
   "source": [
    "# 3. Implement typeOneArticle"
   ]
  },
  {
   "cell_type": "code",
   "execution_count": 33,
   "metadata": {},
   "outputs": [],
   "source": [
    "# C++: void typeOneArticle (const char * corruptedMessageFile, const char * sourceArticle, \n",
    "#                           bool trace = false);\n",
    "# Or\n",
    "# C++: void typeOneArticle (const string corruptedMessageFile, const string sourceArticle, \n",
    "#                           bool trace = false);\n",
    "# ==>\n",
    "# Python: typeOneArticle (corruptedMessageFile, sourceArticle, \n",
    "#                           trace = False)\n"
   ]
  },
  {
   "cell_type": "code",
   "execution_count": 34,
   "metadata": {},
   "outputs": [],
   "source": [
    "def typeOneArticle(corruptedMessageFile, sourceArticle, trace = False):\n",
    "    file = open(sourceArticle,\"r\") \n",
    "    lines = file.readlines()\n",
    "    file.close()\n",
    "    words = [line.strip( ) for line in lines]\n",
    "    \n",
    "    corruptedWords = [ typeOneWord(word) for word in words]\n",
    "    if trace:\n",
    "        print( corruptedWords )\n",
    "    \n",
    "    file = open(corruptedMessageFile,\"w\") \n",
    "    for corruptedWord in corruptedWords:\n",
    "        file.writelines(corruptedWord+\"\\n\")\n",
    "    file.close()\n",
    "    \n",
    "                        \n",
    "    "
   ]
  },
  {
   "cell_type": "code",
   "execution_count": 35,
   "metadata": {},
   "outputs": [],
   "source": [
    "pr_hit = 0.6\n",
    "pr_miss = 0.4\n",
    "deg_kb = 2\n",
    "\n",
    "pr_repeat = 0.2\n",
    "pr_moveOn = 0.8\n",
    "deg_sp = 2\n",
    "\n",
    "typeOneArticle(\"corruptedVision\", \"biolaVision.txt\")\n"
   ]
  },
  {
   "cell_type": "code",
   "execution_count": 36,
   "metadata": {},
   "outputs": [],
   "source": [
    "# %load corruptedVision"
   ]
  },
  {
   "cell_type": "markdown",
   "metadata": {},
   "source": [
    "# 4. Specifics about Program 3A"
   ]
  },
  {
   "cell_type": "code",
   "execution_count": 37,
   "metadata": {},
   "outputs": [],
   "source": [
    "wordToType = \"his\"\n",
    "observedString = \"he\""
   ]
  },
  {
   "cell_type": "markdown",
   "metadata": {},
   "source": [
    "# 4.1 Data Structures: Lists"
   ]
  },
  {
   "cell_type": "markdown",
   "metadata": {},
   "source": [
    "## State representations (excluding the special state I and F)"
   ]
  },
  {
   "cell_type": "code",
   "execution_count": 38,
   "metadata": {},
   "outputs": [
    {
     "data": {
      "text/plain": [
       "[0, 1, 2]"
      ]
     },
     "execution_count": 38,
     "metadata": {},
     "output_type": "execute_result"
    }
   ],
   "source": [
    "state_indicices = list( range(len(wordToType) ))\n",
    "state_indicices "
   ]
  },
  {
   "cell_type": "code",
   "execution_count": 39,
   "metadata": {},
   "outputs": [
    {
     "data": {
      "text/plain": [
       "'his'"
      ]
     },
     "execution_count": 39,
     "metadata": {},
     "output_type": "execute_result"
    }
   ],
   "source": [
    "state_chars = wordToType\n",
    "state_chars"
   ]
  },
  {
   "cell_type": "code",
   "execution_count": 40,
   "metadata": {},
   "outputs": [
    {
     "data": {
      "text/plain": [
       "[(0, 'h'), (1, 'i'), (2, 's')]"
      ]
     },
     "execution_count": 40,
     "metadata": {},
     "output_type": "execute_result"
    }
   ],
   "source": [
    "states = [ (state_index, state_char) for state_index, state_char in zip(  state_indicices, state_chars)]\n",
    "states"
   ]
  },
  {
   "cell_type": "markdown",
   "metadata": {},
   "source": [
    "## HMM representation (excluding the special state I)"
   ]
  },
  {
   "cell_type": "code",
   "execution_count": 41,
   "metadata": {},
   "outputs": [
    {
     "data": {
      "text/plain": [
       "[0.5714285714285714, 0.2857142857142857, 0.14285714285714285]"
      ]
     },
     "execution_count": 41,
     "metadata": {},
     "output_type": "execute_result"
    }
   ],
   "source": [
    "#At the beginning, the initial probability vector Pi after leaving the special state I\n",
    "\n",
    "vector_pi_list = getPrTableForPossibleInitialStatesGivenTheWord(wordToType)\n",
    "vector_pi_list"
   ]
  },
  {
   "cell_type": "code",
   "execution_count": 42,
   "metadata": {},
   "outputs": [
    {
     "data": {
      "text/plain": [
       "[[0.2, 0.4571428571428572, 0.2285714285714286, 0.1142857142857143],\n",
       " [0.0, 0.2, 0.5333333333333333, 0.26666666666666666],\n",
       " [0.0, 0.0, 0.2, 0.8]]"
      ]
     },
     "execution_count": 42,
     "metadata": {},
     "output_type": "execute_result"
    }
   ],
   "source": [
    "# Transition probability matrix A (excluding the rows for I and F and the column for I)\n",
    "lenthOfWord = len(wordToType)\n",
    "matrix_A_List = [ getPrTableForPossibleNextStatesGivenWord(wordToType, currentState) for currentState in range(lenthOfWord)]\n",
    "matrix_A_List "
   ]
  },
  {
   "cell_type": "code",
   "execution_count": 43,
   "metadata": {},
   "outputs": [
    {
     "data": {
      "text/plain": [
       "0.4571428571428572"
      ]
     },
     "execution_count": 43,
     "metadata": {},
     "output_type": "execute_result"
    }
   ],
   "source": [
    "# Access the transition probability $a_{ij}$\n",
    "i = 0; j =1\n",
    "matrix_A_List[i][j]"
   ]
  },
  {
   "cell_type": "code",
   "execution_count": 44,
   "metadata": {},
   "outputs": [
    {
     "data": {
      "text/plain": [
       "[[0.001562786154691411,\n",
       "  0.003125572309382822,\n",
       "  0.006251144618765644,\n",
       "  0.012502289237531288,\n",
       "  0.025004578475062576,\n",
       "  0.05000915695012515,\n",
       "  0.1000183139002503,\n",
       "  0.6,\n",
       "  0.1000183139002503,\n",
       "  0.05000915695012515,\n",
       "  0.025004578475062576,\n",
       "  0.012502289237531288,\n",
       "  0.006251144618765644,\n",
       "  0.003125572309382822,\n",
       "  0.001562786154691411,\n",
       "  0.0007813930773457055,\n",
       "  0.00039069653867285274,\n",
       "  0.00019534826933642637,\n",
       "  9.767413466821319e-05,\n",
       "  4.883706733410659e-05,\n",
       "  2.4418533667053296e-05,\n",
       "  4.883706733410659e-05,\n",
       "  9.767413466821319e-05,\n",
       "  0.00019534826933642637,\n",
       "  0.00039069653867285274,\n",
       "  0.0007813930773457055],\n",
       " [0.0007813930773457055,\n",
       "  0.001562786154691411,\n",
       "  0.003125572309382822,\n",
       "  0.006251144618765644,\n",
       "  0.012502289237531288,\n",
       "  0.025004578475062576,\n",
       "  0.05000915695012515,\n",
       "  0.1000183139002503,\n",
       "  0.6,\n",
       "  0.1000183139002503,\n",
       "  0.05000915695012515,\n",
       "  0.025004578475062576,\n",
       "  0.012502289237531288,\n",
       "  0.006251144618765644,\n",
       "  0.003125572309382822,\n",
       "  0.001562786154691411,\n",
       "  0.0007813930773457055,\n",
       "  0.00039069653867285274,\n",
       "  0.00019534826933642637,\n",
       "  9.767413466821319e-05,\n",
       "  4.883706733410659e-05,\n",
       "  2.4418533667053296e-05,\n",
       "  4.883706733410659e-05,\n",
       "  9.767413466821319e-05,\n",
       "  0.00019534826933642637,\n",
       "  0.00039069653867285274],\n",
       " [0.0007813930773457055,\n",
       "  0.00039069653867285274,\n",
       "  0.00019534826933642637,\n",
       "  9.767413466821319e-05,\n",
       "  4.883706733410659e-05,\n",
       "  2.4418533667053296e-05,\n",
       "  4.883706733410659e-05,\n",
       "  9.767413466821319e-05,\n",
       "  0.00019534826933642637,\n",
       "  0.00039069653867285274,\n",
       "  0.0007813930773457055,\n",
       "  0.001562786154691411,\n",
       "  0.003125572309382822,\n",
       "  0.006251144618765644,\n",
       "  0.012502289237531288,\n",
       "  0.025004578475062576,\n",
       "  0.05000915695012515,\n",
       "  0.1000183139002503,\n",
       "  0.6,\n",
       "  0.1000183139002503,\n",
       "  0.05000915695012515,\n",
       "  0.025004578475062576,\n",
       "  0.012502289237531288,\n",
       "  0.006251144618765644,\n",
       "  0.003125572309382822,\n",
       "  0.001562786154691411]]"
      ]
     },
     "execution_count": 44,
     "metadata": {},
     "output_type": "execute_result"
    }
   ],
   "source": [
    "# observation probability matrix B, \n",
    "# excluding the rows for I and F columns, \n",
    "# exclucing the columns for ReadyToType and EndOfWord\n",
    "alphabet = \"abcdefghijklmnopqrstuvwxyz\"\n",
    "matrix_B_List = [ [prCharGiveCharState(char, state_Char) for char in alphabet] \n",
    "                  for state_Char in state_chars]\n",
    "matrix_B_List "
   ]
  },
  {
   "cell_type": "code",
   "execution_count": 45,
   "metadata": {},
   "outputs": [
    {
     "data": {
      "text/plain": [
       "0.001562786154691411"
      ]
     },
     "execution_count": 45,
     "metadata": {},
     "output_type": "execute_result"
    }
   ],
   "source": [
    "# Access the observation probability $b_{ij}$\n",
    "i = 0; j =0   #Typing the first character (state_index is 0) in the word but get 'a' generated  \n",
    "matrix_B_List[i][j]"
   ]
  },
  {
   "cell_type": "code",
   "execution_count": 46,
   "metadata": {},
   "outputs": [
    {
     "data": {
      "text/plain": [
       "0.003125572309382822"
      ]
     },
     "execution_count": 46,
     "metadata": {},
     "output_type": "execute_result"
    }
   ],
   "source": [
    "# Access the observation probability $b_{ij}$\n",
    "i = 0; j =1   #Typing the first character (state_index is 0) in the word but get 'b' generated   \n",
    "matrix_B_List[i][j]"
   ]
  },
  {
   "cell_type": "markdown",
   "metadata": {},
   "source": [
    "# 4.2 Data Structures: Use np arrays as data structures instead"
   ]
  },
  {
   "cell_type": "code",
   "execution_count": 47,
   "metadata": {},
   "outputs": [],
   "source": [
    "vector_pi = np.array( vector_pi_list )\n",
    "matrix_A = np.array( matrix_A_List )\n",
    "matrix_B = np.array( matrix_B_List )"
   ]
  },
  {
   "cell_type": "code",
   "execution_count": 48,
   "metadata": {},
   "outputs": [
    {
     "name": "stdout",
     "output_type": "stream",
     "text": [
      "[0.57142857 0.28571429 0.14285714]\n",
      "(3,)\n"
     ]
    },
    {
     "data": {
      "text/plain": [
       "1.0"
      ]
     },
     "execution_count": 48,
     "metadata": {},
     "output_type": "execute_result"
    }
   ],
   "source": [
    "print(vector_pi)  #Check the shape\n",
    "print(vector_pi.shape)  #Check the shape\n",
    "vector_pi.sum()         #Check the sum of probabilties"
   ]
  },
  {
   "cell_type": "code",
   "execution_count": 49,
   "metadata": {},
   "outputs": [
    {
     "name": "stdout",
     "output_type": "stream",
     "text": [
      "(3, 4)\n"
     ]
    },
    {
     "data": {
      "text/plain": [
       "array([1., 1., 1.])"
      ]
     },
     "execution_count": 49,
     "metadata": {},
     "output_type": "execute_result"
    }
   ],
   "source": [
    "print(matrix_A.shape)  #Check the shape\n",
    "matrix_A.sum(axis = 1) #Check the sum of probabilties on each row"
   ]
  },
  {
   "cell_type": "code",
   "execution_count": 50,
   "metadata": {},
   "outputs": [
    {
     "name": "stdout",
     "output_type": "stream",
     "text": [
      "(3, 26)\n"
     ]
    },
    {
     "data": {
      "text/plain": [
       "array([1., 1., 1.])"
      ]
     },
     "execution_count": 50,
     "metadata": {},
     "output_type": "execute_result"
    }
   ],
   "source": [
    "print(matrix_B.shape)  #Check the shape\n",
    "matrix_B.sum(axis = 1) #Check the sum of probabilties on each row"
   ]
  },
  {
   "cell_type": "markdown",
   "metadata": {},
   "source": [
    "# 4.3 Ideas about implemening the forward algorithm for HMMs using Numpy arrays"
   ]
  },
  {
   "cell_type": "markdown",
   "metadata": {},
   "source": [
    "## Example: Use the forward alforithm to figure out the probability of seeing \"ab\" (i.e \"ReadToType_ab_EndOfWord\"when the person is try to type the word \"his\"."
   ]
  },
  {
   "cell_type": "markdown",
   "metadata": {},
   "source": [
    "## You can use lists above as the data structures to implement the work or You may consider using numpy arrays as the data structures to implement the work. In the following, we show the basic ideas of using Numpy arrays for the implementation of the forward algorithm to figure out the probability."
   ]
  },
  {
   "cell_type": "markdown",
   "metadata": {},
   "source": [
    "## Note that in general the number of stages invloved should be 2+the number of characters in the observed string. In this case, we have 4 stages only since there are only 2 chracters observed."
   ]
  },
  {
   "cell_type": "code",
   "execution_count": 51,
   "metadata": {},
   "outputs": [],
   "source": [
    "# Paraemter values for the 1D keyboad are stored in global variables; you can change them\n",
    "pr_hit = 0.6\n",
    "pr_miss = 0.4\n",
    "deg_kb = 2\n",
    "\n",
    "pr_repeat = 0.2\n",
    "pr_moveOn = 0.8\n",
    "deg_sp = 2\n",
    "\n",
    "wordToType = \"his\"\n",
    "observedString = \"ab\"\n"
   ]
  },
  {
   "cell_type": "markdown",
   "metadata": {},
   "source": [
    "## Stage 1 (The column for observing ReadyToType ): Must start at state I (probability 0 for the other states)"
   ]
  },
  {
   "cell_type": "markdown",
   "metadata": {},
   "source": [
    "## Stage 2 (The column for observing 'a'): only keep the real states (excluding I and F)"
   ]
  },
  {
   "cell_type": "code",
   "execution_count": 52,
   "metadata": {},
   "outputs": [
    {
     "name": "stdout",
     "output_type": "stream",
     "text": [
      "(3,)\n"
     ]
    },
    {
     "data": {
      "text/plain": [
       "array([0.57142857, 0.28571429, 0.14285714])"
      ]
     },
     "execution_count": 52,
     "metadata": {},
     "output_type": "execute_result"
    }
   ],
   "source": [
    "#Probabilties of transitioning into each of the real states from I\n",
    "print( vector_pi.shape)\n",
    "vector_pi"
   ]
  },
  {
   "cell_type": "code",
   "execution_count": 53,
   "metadata": {},
   "outputs": [],
   "source": [
    "#Probabilties of transitioning into each of the real states from I\n",
    "stage2_1 = vector_pi"
   ]
  },
  {
   "cell_type": "code",
   "execution_count": 54,
   "metadata": {},
   "outputs": [
    {
     "name": "stdout",
     "output_type": "stream",
     "text": [
      "charObserved: a\n"
     ]
    },
    {
     "data": {
      "text/plain": [
       "array([0.00156279, 0.00078139, 0.00078139])"
      ]
     },
     "execution_count": 54,
     "metadata": {},
     "output_type": "execute_result"
    }
   ],
   "source": [
    "#Probabilities of observing the first character in each of the real states (excluding F)\n",
    "observationIndex = 0\n",
    "charObserved = observedString[observationIndex]\n",
    "print( \"charObserved:\", charObserved)\n",
    "indexOfObservedChar = ord(charObserved) - ord('a')\n",
    "matrix_B[:, indexOfObservedChar]"
   ]
  },
  {
   "cell_type": "code",
   "execution_count": 55,
   "metadata": {},
   "outputs": [
    {
     "data": {
      "text/plain": [
       "array([0.00089302, 0.00022326, 0.00011163])"
      ]
     },
     "execution_count": 55,
     "metadata": {},
     "output_type": "execute_result"
    }
   ],
   "source": [
    "# Combine the two items above to calculate\n",
    "# Probabilities of ending in each of the real states (excluding F) and observing a\n",
    "stage2_2 = stage2_1*matrix_B[:, indexOfObservedChar]\n",
    "stage2_2"
   ]
  },
  {
   "cell_type": "markdown",
   "metadata": {},
   "source": [
    "## Stage 3 (The column for observing 'b'): only keep the real states (excluding I and F)"
   ]
  },
  {
   "cell_type": "code",
   "execution_count": 56,
   "metadata": {},
   "outputs": [
    {
     "data": {
      "text/plain": [
       "array([0.00089302, 0.00022326, 0.00011163])"
      ]
     },
     "execution_count": 56,
     "metadata": {},
     "output_type": "execute_result"
    }
   ],
   "source": [
    "stage2_2"
   ]
  },
  {
   "cell_type": "code",
   "execution_count": 57,
   "metadata": {},
   "outputs": [
    {
     "name": "stdout",
     "output_type": "stream",
     "text": [
      "(3, 1)\n"
     ]
    },
    {
     "data": {
      "text/plain": [
       "array([[0.00089302],\n",
       "       [0.00022326],\n",
       "       [0.00011163]])"
      ]
     },
     "execution_count": 57,
     "metadata": {},
     "output_type": "execute_result"
    }
   ],
   "source": [
    "stage2_2[:, np.newaxis]\n",
    "print( stage2_2[:, np.newaxis].shape )\n",
    "stage2_2[:, np.newaxis]"
   ]
  },
  {
   "cell_type": "code",
   "execution_count": 58,
   "metadata": {},
   "outputs": [
    {
     "data": {
      "text/plain": [
       "array([[1.78604132e-04, 4.08238016e-04, 2.04119008e-04, 1.02059504e-04],\n",
       "       [0.00000000e+00, 4.46510330e-05, 1.19069421e-04, 5.95347107e-05],\n",
       "       [0.00000000e+00, 0.00000000e+00, 2.23255165e-05, 8.93020660e-05]])"
      ]
     },
     "execution_count": 58,
     "metadata": {},
     "output_type": "execute_result"
    }
   ],
   "source": [
    "#Probabilties of further transitioning into each of the real states\n",
    "stage3_1 = stage2_2[:, np.newaxis]  * matrix_A\n",
    "stage3_1 "
   ]
  },
  {
   "cell_type": "code",
   "execution_count": 59,
   "metadata": {},
   "outputs": [
    {
     "data": {
      "text/plain": [
       "array([0.0001786 , 0.00045289, 0.00034551, 0.0002509 ])"
      ]
     },
     "execution_count": 59,
     "metadata": {},
     "output_type": "execute_result"
    }
   ],
   "source": [
    "stage3_2 = stage3_1.sum(axis = 0)\n",
    "stage3_2"
   ]
  },
  {
   "cell_type": "code",
   "execution_count": 60,
   "metadata": {},
   "outputs": [
    {
     "data": {
      "text/plain": [
       "array([0.0001786 , 0.00045289, 0.00034551])"
      ]
     },
     "execution_count": 60,
     "metadata": {},
     "output_type": "execute_result"
    }
   ],
   "source": [
    "#Probabilities of ending in each of the real states (excluding F)\n",
    "stage3_2[:-1]"
   ]
  },
  {
   "cell_type": "code",
   "execution_count": 61,
   "metadata": {},
   "outputs": [
    {
     "name": "stdout",
     "output_type": "stream",
     "text": [
      "charObserved: b\n"
     ]
    },
    {
     "data": {
      "text/plain": [
       "array([0.00312557, 0.00156279, 0.0003907 ])"
      ]
     },
     "execution_count": 61,
     "metadata": {},
     "output_type": "execute_result"
    }
   ],
   "source": [
    "#Probabilities of observing the second character in each of the real states (excluding F)\n",
    "observationIndex = 1\n",
    "charObserved = observedString[observationIndex]\n",
    "print( \"charObserved:\", charObserved)\n",
    "indexOfObservedChar = ord(charObserved) - ord('a')\n",
    "matrix_B[:, indexOfObservedChar]\n"
   ]
  },
  {
   "cell_type": "code",
   "execution_count": 62,
   "metadata": {},
   "outputs": [
    {
     "data": {
      "text/plain": [
       "array([5.58240129e-07, 7.07768735e-07, 1.34991103e-07])"
      ]
     },
     "execution_count": 62,
     "metadata": {},
     "output_type": "execute_result"
    }
   ],
   "source": [
    "# Combine the two items above to calculate\n",
    "# Probabilities of ending in each of the real states (excluding F) and observing b\n",
    "stage3_3 = stage3_2[:-1]*matrix_B[:, indexOfObservedChar]\n",
    "stage3_3"
   ]
  },
  {
   "cell_type": "markdown",
   "metadata": {},
   "source": [
    "## Stage 4 (The column for observing EndOfWord ): Must be in the Final State F (probability = 0 for the other states)"
   ]
  },
  {
   "cell_type": "code",
   "execution_count": 63,
   "metadata": {},
   "outputs": [
    {
     "data": {
      "text/plain": [
       "array([5.58240129e-07, 7.07768735e-07, 1.34991103e-07])"
      ]
     },
     "execution_count": 63,
     "metadata": {},
     "output_type": "execute_result"
    }
   ],
   "source": [
    "# Probabilities of ending in each of the real states (excluding F) and observing b\n",
    "stage3_3"
   ]
  },
  {
   "cell_type": "code",
   "execution_count": 64,
   "metadata": {},
   "outputs": [
    {
     "data": {
      "text/plain": [
       "array([0.11428571, 0.26666667, 0.8       ])"
      ]
     },
     "execution_count": 64,
     "metadata": {},
     "output_type": "execute_result"
    }
   ],
   "source": [
    "# Probabilities of then transitioning to F from each of the real states\n",
    "matrix_A[:, len( wordToType)]"
   ]
  },
  {
   "cell_type": "code",
   "execution_count": 65,
   "metadata": {},
   "outputs": [
    {
     "data": {
      "text/plain": [
       "array([6.37988719e-08, 1.88738329e-07, 1.07992882e-07])"
      ]
     },
     "execution_count": 65,
     "metadata": {},
     "output_type": "execute_result"
    }
   ],
   "source": [
    "# Combine the two items above to calculate the\n",
    "# Probabilities of then transition to F and ending the typing process of the word\n",
    "# Transisiton to F (index 3 in this case )\n",
    "stage4_1 = stage3_3 * matrix_A[:, len( wordToType)]\n",
    "stage4_1"
   ]
  },
  {
   "cell_type": "code",
   "execution_count": 66,
   "metadata": {},
   "outputs": [],
   "source": [
    "# The result is the sum of all these probabilities"
   ]
  },
  {
   "cell_type": "code",
   "execution_count": 67,
   "metadata": {},
   "outputs": [
    {
     "data": {
      "text/plain": [
       "3.6053008344833416e-07"
      ]
     },
     "execution_count": 67,
     "metadata": {},
     "output_type": "execute_result"
    }
   ],
   "source": [
    "result = stage4_1.sum()\n",
    "result"
   ]
  },
  {
   "cell_type": "markdown",
   "metadata": {},
   "source": [
    "## The result above is also what you would get from the sample demo program for HMMs.\n",
    "# * * * * * * * * * * * * * * * * * * * * * * * * * * * * * * * * * * * * "
   ]
  },
  {
   "cell_type": "markdown",
   "metadata": {},
   "source": [
    "# 4.4 Complete the implementation of the forward algorithm below ==> \n",
    "## Define a function prOf1CharSeriesWhenTyping1Word_F to generalize the process (of the forward algorithm) demonstrated in the case above for any given wordToType and any given observedString"
   ]
  },
  {
   "cell_type": "code",
   "execution_count": 68,
   "metadata": {},
   "outputs": [],
   "source": [
    "# Using the forward algorithm algorithm to determine the probability: \n",
    "# The function should calculate and return\n",
    "#     the probability of getting the string d \n",
    "#     when the user (modelled by the parameter values of pr_hit, pr_repeat, degenerate_kb, ...)\n",
    "#     want to type the word in string w\n",
    "# When the trace is True, the function will report the trace of computation done.\n",
    "\n",
    "def prOf1CharSeriesWhenTyping1Word_F(observedString, wordToType, trace = False):\n",
    "    #The probability distribution after leaving I\n",
    "    vector_pi_list = getPrTableForPossibleInitialStatesGivenTheWord(wordToType)\n",
    "    \n",
    "    #The transition probability matrix A\n",
    "    lenthOfWord = len(wordToType)\n",
    "    matrix_A_List = [ getPrTableForPossibleNextStatesGivenWord(wordToType, currentState) \n",
    "                      for currentState in range(lenthOfWord)]\n",
    "    \n",
    "    #The observation probability matrix B\n",
    "    alphabet = \"abcdefghijklmnopqrstuvwxyz\"\n",
    "    matrix_B_List = [ [prCharGiveCharState(char, state_Char) for char in alphabet] \n",
    "                      for state_Char in wordToType]\n",
    "    \n",
    "    ##############################################\n",
    "    #Cast them into numpy arrays\n",
    "    ##############################################\n",
    "    vector_pi = np.array( vector_pi_list )\n",
    "    matrix_A = np.array( matrix_A_List )\n",
    "    matrix_B = np.array( matrix_B_List )\n",
    "    \n",
    "    if trace == True:\n",
    "        print(\"vector_pi\", vector_pi.shape, \":\\n\", vector_pi)\n",
    "        print(\"matrix_A\", matrix_A.shape, \":\\n\", matrix_A)\n",
    "        print(\"matrix_B\", matrix_B.shape, \":\\n\", matrix_B)\n",
    "    \n",
    "    ##############################################\n",
    "    #For the first column (corresponding to the first character observed)\n",
    "    ##############################################\n",
    "    observationIndex = 0\n",
    "    charObserved = observedString[observationIndex]\n",
    "    if trace == True:\n",
    "        print( \"\\n\\nobservationIndex, charObserved:\", observationIndex, \",\", charObserved)\n",
    "    indexOfObservedCharInAlphabet = ord(charObserved) - ord('a');\n",
    "    \n",
    "    #transitionProbabilties record the 1st-stage results of a column regarding \n",
    "    #    the probabilities of ending in each of the states at this point\n",
    "    transitionProbabilties = vector_pi\n",
    "    if trace == True:\n",
    "        print(\"Probabilties of ending at the states at this point:\\n\", transitionProbabilties)\n",
    "    \n",
    "    #columnProbabilities record the 2nd-stage results of a column regarding \n",
    "    #    the probabilities of ending in each of the states at this point and also\n",
    "    #                         seeing the specific character at this point\n",
    "    observationProbabilities = matrix_B[:, indexOfObservedCharInAlphabet]\n",
    "    if trace == True:\n",
    "        print(\"probabilities of observing \", charObserved, \" at specific states alone:\\n\", \n",
    "              observationProbabilities)\n",
    "\n",
    "    columnProbabilities = transitionProbabilties * observationProbabilities\n",
    "    if trace == True:\n",
    "        print(\"Probabilties of observing up to\", charObserved, \n",
    "              \" and ending at the states at this point:\\n\", columnProbabilities)\n",
    "    \n",
    "    \n",
    "    ##############################################\n",
    "    # For the remaining columns one at a time\n",
    "    ##############################################\n",
    "    lenthOfObservedString = len(observedString)\n",
    "    for observationIndex in np.arange(1, lenthOfObservedString):\n",
    "        charObserved = observedString[observationIndex]\n",
    "        if trace == True:\n",
    "            print( \"\\nobservationIndex, charObserved:\", observationIndex, \",\", charObserved)\n",
    "        \n",
    "        ##############################################################\n",
    "        ## write the reamining part of the body of the for loop\n",
    "        ##############################################################\n",
    "        # ...\n",
    "        # ...\n",
    "        # ...\n",
    "        # ...\n",
    "        # ...\n",
    "    \n",
    "    ##############################################\n",
    "    # Determine the sum of probabilities of transitioning to the Final state F from each state\n",
    "    ##############################################\n",
    "    if trace == True:\n",
    "        print(\"\\nprobabilities of transitioning to F from states at this point:\\n\", \n",
    "              matrix_A[:, len( wordToType)] )\n",
    "    pr = (columnProbabilities * matrix_A[:, len( wordToType)]).sum()\n",
    "    if trace == True:\n",
    "        print(\"\\nSum of the probabilitie above:\", pr);\n",
    "    \n",
    "    return pr \n"
   ]
  },
  {
   "cell_type": "code",
   "execution_count": 69,
   "metadata": {},
   "outputs": [
    {
     "name": "stdout",
     "output_type": "stream",
     "text": [
      "vector_pi (3,) :\n",
      " [0.57142857 0.28571429 0.14285714]\n",
      "matrix_A (3, 4) :\n",
      " [[0.2        0.45714286 0.22857143 0.11428571]\n",
      " [0.         0.2        0.53333333 0.26666667]\n",
      " [0.         0.         0.2        0.8       ]]\n",
      "matrix_B (3, 26) :\n",
      " [[1.56278615e-03 3.12557231e-03 6.25114462e-03 1.25022892e-02\n",
      "  2.50045785e-02 5.00091570e-02 1.00018314e-01 6.00000000e-01\n",
      "  1.00018314e-01 5.00091570e-02 2.50045785e-02 1.25022892e-02\n",
      "  6.25114462e-03 3.12557231e-03 1.56278615e-03 7.81393077e-04\n",
      "  3.90696539e-04 1.95348269e-04 9.76741347e-05 4.88370673e-05\n",
      "  2.44185337e-05 4.88370673e-05 9.76741347e-05 1.95348269e-04\n",
      "  3.90696539e-04 7.81393077e-04]\n",
      " [7.81393077e-04 1.56278615e-03 3.12557231e-03 6.25114462e-03\n",
      "  1.25022892e-02 2.50045785e-02 5.00091570e-02 1.00018314e-01\n",
      "  6.00000000e-01 1.00018314e-01 5.00091570e-02 2.50045785e-02\n",
      "  1.25022892e-02 6.25114462e-03 3.12557231e-03 1.56278615e-03\n",
      "  7.81393077e-04 3.90696539e-04 1.95348269e-04 9.76741347e-05\n",
      "  4.88370673e-05 2.44185337e-05 4.88370673e-05 9.76741347e-05\n",
      "  1.95348269e-04 3.90696539e-04]\n",
      " [7.81393077e-04 3.90696539e-04 1.95348269e-04 9.76741347e-05\n",
      "  4.88370673e-05 2.44185337e-05 4.88370673e-05 9.76741347e-05\n",
      "  1.95348269e-04 3.90696539e-04 7.81393077e-04 1.56278615e-03\n",
      "  3.12557231e-03 6.25114462e-03 1.25022892e-02 2.50045785e-02\n",
      "  5.00091570e-02 1.00018314e-01 6.00000000e-01 1.00018314e-01\n",
      "  5.00091570e-02 2.50045785e-02 1.25022892e-02 6.25114462e-03\n",
      "  3.12557231e-03 1.56278615e-03]]\n",
      "\n",
      "\n",
      "observationIndex, charObserved: 0 , h\n",
      "Probabilties of ending at the states at this point:\n",
      " [0.57142857 0.28571429 0.14285714]\n",
      "probabilities of observing  h  at specific states alone:\n",
      " [6.00000000e-01 1.00018314e-01 9.76741347e-05]\n",
      "Probabilties of observing up to h  and ending at the states at this point:\n",
      " [3.42857143e-01 2.85766611e-02 1.39534478e-05]\n",
      "\n",
      "observationIndex, charObserved: 1 , i\n",
      "\n",
      "observationIndex, charObserved: 2 , s\n",
      "\n",
      "probabilities of transitioning to F from states at this point:\n",
      " [0.11428571 0.26666667 0.8       ]\n",
      "\n",
      "Sum of the probabilitie above: 0.04681527919146414\n"
     ]
    },
    {
     "data": {
      "text/plain": [
       "0.04681527919146414"
      ]
     },
     "execution_count": 69,
     "metadata": {},
     "output_type": "execute_result"
    }
   ],
   "source": [
    "# With trace\n",
    "prOf1CharSeriesWhenTyping1Word_F(\"his\", \"his\", True)"
   ]
  },
  {
   "cell_type": "code",
   "execution_count": 70,
   "metadata": {},
   "outputs": [
    {
     "data": {
      "text/plain": [
       "0.04681527919146414"
      ]
     },
     "execution_count": 70,
     "metadata": {},
     "output_type": "execute_result"
    }
   ],
   "source": [
    "# No trace\n",
    "prOf1CharSeriesWhenTyping1Word_F(\"his\", \"his\")"
   ]
  },
  {
   "cell_type": "code",
   "execution_count": 71,
   "metadata": {},
   "outputs": [
    {
     "data": {
      "text/plain": [
       "7.573881938855448e-07"
      ]
     },
     "execution_count": 71,
     "metadata": {},
     "output_type": "execute_result"
    }
   ],
   "source": [
    "prOf1CharSeriesWhenTyping1Word_F(\"sasdfsdfsdfsdfsdfsfafsdfdasff\", \"sdfsdfsdfsfparameters\")"
   ]
  }
 ],
 "metadata": {
  "kernelspec": {
   "display_name": "Python 3",
   "language": "python",
   "name": "python3"
  },
  "language_info": {
   "codemirror_mode": {
    "name": "ipython",
    "version": 3
   },
   "file_extension": ".py",
   "mimetype": "text/x-python",
   "name": "python",
   "nbconvert_exporter": "python",
   "pygments_lexer": "ipython3",
   "version": "3.6.5"
  }
 },
 "nbformat": 4,
 "nbformat_minor": 2
}
